{
  "nbformat": 4,
  "nbformat_minor": 0,
  "metadata": {
    "colab": {
      "name": "data_challenge.ipynb",
      "version": "0.3.2",
      "provenance": [],
      "collapsed_sections": []
    },
    "kernelspec": {
      "name": "python3",
      "display_name": "Python 3"
    },
    "accelerator": "GPU"
  },
  "cells": [
    {
      "cell_type": "markdown",
      "metadata": {
        "id": "cVqgMcTDl1MO",
        "colab_type": "text"
      },
      "source": [
        ""
      ]
    },
    {
      "cell_type": "code",
      "metadata": {
        "id": "MMgeGzIcFaXt",
        "colab_type": "code",
        "outputId": "0e88d4d3-e14d-47f7-f129-38a5b0b62fdf",
        "colab": {
          "base_uri": "https://localhost:8080/",
          "height": 289
        }
      },
      "source": [
        "!nvidia-smi"
      ],
      "execution_count": 0,
      "outputs": [
        {
          "output_type": "stream",
          "text": [
            "Sun Apr 14 20:21:14 2019       \n",
            "+-----------------------------------------------------------------------------+\n",
            "| NVIDIA-SMI 418.56       Driver Version: 410.79       CUDA Version: 10.0     |\n",
            "|-------------------------------+----------------------+----------------------+\n",
            "| GPU  Name        Persistence-M| Bus-Id        Disp.A | Volatile Uncorr. ECC |\n",
            "| Fan  Temp  Perf  Pwr:Usage/Cap|         Memory-Usage | GPU-Util  Compute M. |\n",
            "|===============================+======================+======================|\n",
            "|   0  Tesla K80           Off  | 00000000:00:04.0 Off |                    0 |\n",
            "| N/A   45C    P0    73W / 149W |   7449MiB / 11441MiB |      0%      Default |\n",
            "+-------------------------------+----------------------+----------------------+\n",
            "                                                                               \n",
            "+-----------------------------------------------------------------------------+\n",
            "| Processes:                                                       GPU Memory |\n",
            "|  GPU       PID   Type   Process name                             Usage      |\n",
            "|=============================================================================|\n",
            "+-----------------------------------------------------------------------------+\n"
          ],
          "name": "stdout"
        }
      ]
    },
    {
      "cell_type": "code",
      "metadata": {
        "id": "Fad7Z4H9G-z9",
        "colab_type": "code",
        "outputId": "b33743a0-f125-4155-bb6b-06ba6c22144a",
        "colab": {
          "base_uri": "https://localhost:8080/",
          "height": 68
        }
      },
      "source": [
        "import tensorflow as tf\n",
        "import tensorflow.contrib.eager as tfe\n",
        "import tensorflow.keras as keras\n",
        "from sklearn.model_selection import train_test_split\n",
        "from sklearn.utils import shuffle\n",
        "from tensorflow.keras.callbacks import EarlyStopping, ModelCheckpoint\n",
        "from keras import regularizers\n",
        "\n",
        "import numpy as np\n",
        "import matplotlib.pyplot as plt\n",
        "\n",
        "from google.colab import drive\n",
        "drive.mount('/content/drive', force_remount=True)\n",
        "\n",
        "print(tf.__version__) \n",
        "tf.enable_eager_execution"
      ],
      "execution_count": 0,
      "outputs": [
        {
          "output_type": "stream",
          "text": [
            "Mounted at /content/drive\n",
            "1.13.1\n"
          ],
          "name": "stdout"
        },
        {
          "output_type": "execute_result",
          "data": {
            "text/plain": [
              "<function tensorflow.python.framework.ops.enable_eager_execution>"
            ]
          },
          "metadata": {
            "tags": []
          },
          "execution_count": 30
        }
      ]
    },
    {
      "cell_type": "code",
      "metadata": {
        "id": "YxloTitnHLd3",
        "colab_type": "code",
        "colab": {}
      },
      "source": [
        "train_x = np.load('/content/drive/My Drive/20564939_dsikka/train_x.npy')\n",
        "train_labels = np.load('/content/drive/My Drive/20564939_dsikka/train_label.npy')\n",
        "test_new_data = np.load('/content/drive/My Drive/20564939_dsikka/test_x.npy')\n",
        "classes = np.unique(train_labels)\n"
      ],
      "execution_count": 0,
      "outputs": []
    },
    {
      "cell_type": "code",
      "metadata": {
        "id": "HT4DHKWuPGZX",
        "colab_type": "code",
        "colab": {}
      },
      "source": [
        "# Add callback with early stopping to prevent overfitting\n",
        "callbacks = [EarlyStopping(monitor='val_loss', min_delta=0, patience=4, mode='auto'),\n",
        "             ModelCheckpoint(filepath='/content/drive/My Drive/20564939_dsikka/model.h5', monitor='val_loss', save_best_only=True)]\n",
        "\n",
        "X_train, X_test, y_train, y_test = train_test_split(train_x, train_labels, test_size=0.20,random_state=np.random.RandomState(), stratify=train_labels)"
      ],
      "execution_count": 0,
      "outputs": []
    },
    {
      "cell_type": "markdown",
      "metadata": {
        "id": "9p6E00tRYWe-",
        "colab_type": "text"
      },
      "source": [
        ""
      ]
    },
    {
      "cell_type": "code",
      "metadata": {
        "id": "DnCwdlWt90s9",
        "colab_type": "code",
        "colab": {}
      },
      "source": [
        "model = keras.Sequential([\n",
        "    keras.layers.Conv2D(32, (3, 3), activation='relu', input_shape=(168, 308, 3)),\n",
        "    keras.layers.MaxPool2D((2, 2)),\n",
        "    keras.layers.BatchNormalization(),\n",
        "    \n",
        "    keras.layers.Conv2D(64, (3, 3), activation='relu'),\n",
        "    keras.layers.MaxPool2D((2, 2)),\n",
        "    keras.layers.BatchNormalization(),\n",
        " \n",
        "    keras.layers.Conv2D(96, (3, 3), activation='relu'),\n",
        "    keras.layers.MaxPool2D((2, 2)),\n",
        "    keras.layers.BatchNormalization(),\n",
        "    \n",
        "    keras.layers.Conv2D(64, (3, 3), activation='relu'),\n",
        "    keras.layers.MaxPool2D((2, 2)),\n",
        "    keras.layers.BatchNormalization(),\n",
        "    \n",
        "    keras.layers.Conv2D(64, (3, 3), activation='relu'),\n",
        "    keras.layers.MaxPool2D((2, 2)),\n",
        "    keras.layers.BatchNormalization(),\n",
        "    \n",
        "    keras.layers.Flatten(),\n",
        "    \n",
        "    #Regularizer (L2) to prevent overfitting in fully connected layers\n",
        "    keras.layers.Dense(120, activation='relu', kernel_regularizer=regularizers.l2(0.01)),\n",
        "    keras.layers.BatchNormalization(),\n",
        "    keras.layers.Dense(120, activation='relu', kernel_regularizer=regularizers.l2(0.01)),\n",
        "    keras.layers.BatchNormalization(),\n",
        "    keras.layers.Dense(len(classes), activation='softmax', kernel_regularizer=regularizers.l2(0.01))\n",
        "])"
      ],
      "execution_count": 0,
      "outputs": []
    },
    {
      "cell_type": "code",
      "metadata": {
        "id": "f9rYRQ6wp1mr",
        "colab_type": "code",
        "colab": {}
      },
      "source": [
        ""
      ],
      "execution_count": 0,
      "outputs": []
    },
    {
      "cell_type": "code",
      "metadata": {
        "id": "2bKhoMlR9xzr",
        "colab_type": "code",
        "colab": {}
      },
      "source": [
        "model.compile(optimizer='adam', loss='sparse_categorical_crossentropy', metrics=['accuracy'])\n"
      ],
      "execution_count": 0,
      "outputs": []
    },
    {
      "cell_type": "code",
      "metadata": {
        "id": "On8LaIQ0_Lhl",
        "colab_type": "code",
        "outputId": "f04772e0-2fb6-4250-b36c-2680b4c85aaa",
        "colab": {
          "base_uri": "https://localhost:8080/",
          "height": 731
        }
      },
      "source": [
        "model.fit(X_train, y_train, callbacks=callbacks, epochs=20, validation_data=(X_test,y_test), verbose=1)"
      ],
      "execution_count": 0,
      "outputs": [
        {
          "output_type": "stream",
          "text": [
            "Train on 608 samples, validate on 152 samples\n",
            "Epoch 1/20\n",
            "608/608 [==============================] - 23s 38ms/sample - loss: 5.9556 - acc: 0.3322 - val_loss: 17.0109 - val_acc: 0.0526\n",
            "Epoch 2/20\n",
            "608/608 [==============================] - 3s 5ms/sample - loss: 4.7000 - acc: 0.6711 - val_loss: 11.4099 - val_acc: 0.0724\n",
            "Epoch 3/20\n",
            "608/608 [==============================] - 3s 5ms/sample - loss: 4.1725 - acc: 0.7845 - val_loss: 8.8281 - val_acc: 0.0855\n",
            "Epoch 4/20\n",
            "608/608 [==============================] - 3s 5ms/sample - loss: 3.7795 - acc: 0.8421 - val_loss: 7.2104 - val_acc: 0.1908\n",
            "Epoch 5/20\n",
            "608/608 [==============================] - 3s 5ms/sample - loss: 3.4955 - acc: 0.8882 - val_loss: 7.3391 - val_acc: 0.1711\n",
            "Epoch 6/20\n",
            "608/608 [==============================] - 3s 5ms/sample - loss: 3.1961 - acc: 0.9062 - val_loss: 6.2999 - val_acc: 0.2829\n",
            "Epoch 7/20\n",
            "608/608 [==============================] - 3s 5ms/sample - loss: 3.0236 - acc: 0.9145 - val_loss: 5.4460 - val_acc: 0.3026\n",
            "Epoch 8/20\n",
            "608/608 [==============================] - 3s 5ms/sample - loss: 2.7445 - acc: 0.9391 - val_loss: 5.6355 - val_acc: 0.2961\n",
            "Epoch 9/20\n",
            "608/608 [==============================] - 3s 5ms/sample - loss: 2.6280 - acc: 0.9145 - val_loss: 6.1638 - val_acc: 0.3224\n",
            "Epoch 10/20\n",
            "608/608 [==============================] - 3s 6ms/sample - loss: 2.3724 - acc: 0.9507 - val_loss: 4.4047 - val_acc: 0.4671\n",
            "Epoch 11/20\n",
            "608/608 [==============================] - 3s 5ms/sample - loss: 2.1915 - acc: 0.9556 - val_loss: 4.8812 - val_acc: 0.3882\n",
            "Epoch 12/20\n",
            "608/608 [==============================] - 3s 5ms/sample - loss: 2.0034 - acc: 0.9753 - val_loss: 3.9278 - val_acc: 0.4276\n",
            "Epoch 13/20\n",
            "608/608 [==============================] - 3s 5ms/sample - loss: 1.8527 - acc: 0.9737 - val_loss: 4.1513 - val_acc: 0.4145\n",
            "Epoch 14/20\n",
            "608/608 [==============================] - 3s 5ms/sample - loss: 1.7478 - acc: 0.9671 - val_loss: 2.6003 - val_acc: 0.7171\n",
            "Epoch 15/20\n",
            "608/608 [==============================] - 3s 5ms/sample - loss: 1.6301 - acc: 0.9671 - val_loss: 3.2437 - val_acc: 0.5263\n",
            "Epoch 16/20\n",
            "608/608 [==============================] - 3s 5ms/sample - loss: 1.4885 - acc: 0.9836 - val_loss: 2.1296 - val_acc: 0.7500\n",
            "Epoch 17/20\n",
            "608/608 [==============================] - 3s 5ms/sample - loss: 1.3678 - acc: 0.9885 - val_loss: 1.9353 - val_acc: 0.7763\n",
            "Epoch 18/20\n",
            "608/608 [==============================] - 3s 5ms/sample - loss: 1.2937 - acc: 0.9655 - val_loss: 2.5412 - val_acc: 0.6513\n",
            "Epoch 19/20\n",
            "608/608 [==============================] - 3s 5ms/sample - loss: 1.2318 - acc: 0.9720 - val_loss: 3.2986 - val_acc: 0.5132\n",
            "Epoch 20/20\n",
            "608/608 [==============================] - 3s 5ms/sample - loss: 1.1334 - acc: 0.9901 - val_loss: 2.7824 - val_acc: 0.5197\n"
          ],
          "name": "stdout"
        },
        {
          "output_type": "execute_result",
          "data": {
            "text/plain": [
              "<tensorflow.python.keras.callbacks.History at 0x7f57c163ef28>"
            ]
          },
          "metadata": {
            "tags": []
          },
          "execution_count": 35
        }
      ]
    },
    {
      "cell_type": "code",
      "metadata": {
        "id": "UxaTwlMCBPmv",
        "colab_type": "code",
        "colab": {}
      },
      "source": [
        "# READ ME\n",
        "\n",
        "# The following code loads the model with the best validation score that was JUST\n",
        "# trained above. This is not necessarily the best model or the model used for \n",
        "# Kaggle. This is simply the model which contains the weights for this particular\n",
        "# training run. The model with the best score is shown below.\n",
        "# The results for this model for testing data given are stored in 'current_result.csv' \n",
        "# in the 20564939_dsikka directory\n",
        "\n",
        "import pandas as pd\n",
        "model_saved = keras.models.load_model('/content/drive/My Drive/20564939_dsikka/model.h5')\n",
        "current_result = model_saved.predict(X_test)\n",
        "a = np.argmax(current_result, axis=1)\n",
        "\n",
        "Id = np.array(list(range(len(a))))\n",
        "\n",
        "df = pd.DataFrame([Id, a]).T\n",
        "df.columns = ['Id', 'Predicted']\n",
        "df.to_csv('/content/drive/My Drive/20564939_dsikka/current_result.csv', index = False)"
      ],
      "execution_count": 0,
      "outputs": []
    },
    {
      "cell_type": "code",
      "metadata": {
        "id": "IpjS8T23BWvi",
        "colab_type": "code",
        "colab": {}
      },
      "source": [
        "# READ ME\n",
        "\n",
        "# The following code loads a pretrained model which I trained and found that it has the \n",
        "# which has the weights that allowed the\n",
        "# BEST Kaggle score for the public leaderboard. For the purpose of testing\n",
        "# on the private leaderboard, this model should be used, not the above.\n",
        "# The results for this model for testing data given are stored in 'result.csv' \n",
        "# in the 20564939_dsikka directory and it is csv used for kaggle\n",
        "\n",
        "\n",
        "import pandas as pd\n",
        "best_model = keras.models.load_model('/content/drive/My Drive/20564939_dsikka/best_model_93.h5')\n",
        "result = best_model.predict(test_new_data)\n",
        "a = np.argmax(result, axis=1)\n",
        "\n",
        "Id = np.array(list(range(len(a))))\n",
        "\n",
        "df = pd.DataFrame([Id, a]).T\n",
        "df.columns = ['Id', 'Predicted']\n",
        "df.to_csv('/content/drive/My Drive/20564939_dsikka/result.csv', index = False)"
      ],
      "execution_count": 0,
      "outputs": []
    },
    {
      "cell_type": "code",
      "metadata": {
        "id": "I77cMS2FSSx2",
        "colab_type": "code",
        "colab": {}
      },
      "source": [
        ""
      ],
      "execution_count": 0,
      "outputs": []
    },
    {
      "cell_type": "code",
      "metadata": {
        "id": "2ZdF_7hdSSwP",
        "colab_type": "code",
        "colab": {}
      },
      "source": [
        ""
      ],
      "execution_count": 0,
      "outputs": []
    },
    {
      "cell_type": "code",
      "metadata": {
        "id": "YGPtv2pGDl7E",
        "colab_type": "code",
        "colab": {}
      },
      "source": [
        ""
      ],
      "execution_count": 0,
      "outputs": []
    },
    {
      "cell_type": "code",
      "metadata": {
        "id": "orYZ8sxh8rXl",
        "colab_type": "code",
        "colab": {}
      },
      "source": [
        ""
      ],
      "execution_count": 0,
      "outputs": []
    }
  ]
}